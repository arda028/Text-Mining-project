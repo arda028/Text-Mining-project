{
 "cells": [
  {
   "cell_type": "code",
   "execution_count": 32,
   "id": "562b9d47-1779-4f5a-b17c-793868cc8065",
   "metadata": {},
   "outputs": [],
   "source": [
    "import pandas as pd\n",
    "from nltk.corpus.reader import ConllCorpusReader\n",
    "from sklearn.feature_extraction import DictVectorizer\n",
    "from sklearn.svm import LinearSVC\n",
    "from sklearn.metrics import classification_report\n",
    "\n",
    "# Load training data from train.txt using ConllCorpusReader\n",
    "reader = ConllCorpusReader(\"/Users/ardatongo/Downloads/ba-text-mining-master 2/lab_sessions/lab4/CONLL2003/CONLL2003\", 'train.txt', ['words', 'pos', 'ignore', 'chunk'])\n",
    "train_sents = reader.iob_sents()\n",
    "\n",
    "train_features, train_labels = [], []\n",
    "for sent in train_sents:\n",
    "    for token, pos, tag in sent:\n",
    "        train_features.append({'Word': token, 'POS': pos})\n",
    "        train_labels.append(tag)\n"
   ]
  },
  {
   "cell_type": "code",
   "execution_count": 34,
   "id": "bafe8e3a-4651-435a-bb05-7163349f7447",
   "metadata": {},
   "outputs": [],
   "source": [
    "import pandas as pd\n",
    "\n",
    "# Load without header and assign column names manually\n",
    "df_test = pd.read_csv(\"/Users/ardatongo/Downloads/NER-test.tsv\", sep=\"\\t\", header=None, on_bad_lines='skip')\n",
    "df_test.columns = [\"SentenceID\", \"TokenID\", \"Token\", \"Label\"]\n",
    "\n",
    "# Normalize entity labels\n",
    "ent_map = {\n",
    "    \"PERSON\": \"PER\",\n",
    "    \"LOCATION\": \"LOC\",\n",
    "    \"ORGANIZATION\": \"ORG\",\n",
    "    \"MISC\": \"MISC\",\n",
    "    \"WORK_OF_ART\": \"WORK_OF_ART\"\n",
    "}\n",
    "\n",
    "def normalize(label):\n",
    "    if pd.isna(label) or label == \"O\":\n",
    "        return \"O\"\n",
    "    if \"-\" not in label:\n",
    "        return label\n",
    "    prefix, ent = label.split(\"-\")\n",
    "    return f\"{prefix}-{ent_map.get(ent, ent)}\"\n",
    "\n",
    "df_test[\"Label\"] = df_test[\"Label\"].apply(normalize)"
   ]
  },
  {
   "cell_type": "code",
   "execution_count": 22,
   "id": "0e7e43b3-6536-4059-a62e-d2c3e14f3516",
   "metadata": {},
   "outputs": [
    {
     "name": "stdout",
     "output_type": "stream",
     "text": [
      "=== SVM Classification Report ===\n",
      "               precision    recall  f1-score   support\n",
      "\n",
      "        B-LOC       1.00      0.29      0.44         7\n",
      "       B-MISC       0.00      0.00      0.00         0\n",
      "        B-ORG       0.50      0.67      0.57         3\n",
      "        B-PER       1.00      0.18      0.31        11\n",
      "B-WORK_OF_ART       0.00      0.00      0.00         9\n",
      "  BIO_NER_tag       0.00      0.00      0.00         1\n",
      "        I-LOC       0.00      0.00      0.00         1\n",
      "        I-ORG       0.00      0.00      0.00         2\n",
      "        I-PER       0.00      0.00      0.00         8\n",
      "I-WORK_OF_ART       0.00      0.00      0.00        10\n",
      "            O       0.81      0.99      0.89       185\n",
      "\n",
      "     accuracy                           0.80       237\n",
      "    macro avg       0.30      0.19      0.20       237\n",
      " weighted avg       0.71      0.80      0.73       237\n",
      "\n"
     ]
    },
    {
     "name": "stderr",
     "output_type": "stream",
     "text": [
      "/opt/anaconda3/lib/python3.12/site-packages/sklearn/svm/_base.py:1249: ConvergenceWarning: Liblinear failed to converge, increase the number of iterations.\n",
      "  warnings.warn(\n"
     ]
    }
   ],
   "source": [
    "# Create test features (POS is unknown, we use placeholder)\n",
    "test_features = [{'Word': row['Token'], 'POS': 'X'} for _, row in df_test.iterrows()]\n",
    "test_labels = df_test[\"Label\"].tolist()\n",
    "\n",
    "# Vectorize features\n",
    "vec = DictVectorizer()\n",
    "X_train = vec.fit_transform(train_features)\n",
    "X_test = vec.transform(test_features)\n",
    "\n",
    "# Train and predict with SVM\n",
    "clf = LinearSVC()\n",
    "clf.fit(X_train, train_labels)\n",
    "\n",
    "predictions = clf.predict(X_test)\n",
    "\n",
    "# Evaluation\n",
    "print(\"=== SVM Classification Report ===\")\n",
    "print(classification_report(test_labels, predictions, zero_division=0))"
   ]
  }
 ],
 "metadata": {
  "kernelspec": {
   "display_name": "Python [conda env:base] *",
   "language": "python",
   "name": "conda-base-py"
  },
  "language_info": {
   "codemirror_mode": {
    "name": "ipython",
    "version": 3
   },
   "file_extension": ".py",
   "mimetype": "text/x-python",
   "name": "python",
   "nbconvert_exporter": "python",
   "pygments_lexer": "ipython3",
   "version": "3.12.7"
  }
 },
 "nbformat": 4,
 "nbformat_minor": 5
}
