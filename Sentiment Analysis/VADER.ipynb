{
 "cells": [
  {
   "cell_type": "markdown",
   "metadata": {},
   "source": [
    "#### Training the VADER Algorithm "
   ]
  },
  {
   "cell_type": "code",
   "execution_count": 9,
   "metadata": {},
   "outputs": [],
   "source": [
    "import pathlib\n",
    "import sklearn\n",
    "import numpy\n",
    "import nltk\n",
    "from nltk.corpus import stopwords\n",
    "from collections import Counter\n",
    "from sklearn.datasets import load_files\n",
    "from sklearn.feature_extraction.text import CountVectorizer\n",
    "from sklearn.feature_extraction.text import TfidfTransformer\n",
    "from sklearn.metrics import classification_report\n",
    "from nltk.sentiment import vader\n",
    "from nltk.sentiment.vader import SentimentIntensityAnalyzer\n",
    "\n"
   ]
  },
  {
   "cell_type": "code",
   "execution_count": null,
   "metadata": {},
   "outputs": [
    {
     "name": "stdout",
     "output_type": "stream",
     "text": [
      "CLASSIFICATION REPORT: TASK 1: VADER as is\n",
      "              precision    recall  f1-score   support\n",
      "\n",
      "    negative       0.84      0.85      0.84     14392\n",
      "     neutral       0.82      0.80      0.81     12389\n",
      "    positive       0.92      0.93      0.92     29793\n",
      "\n",
      "    accuracy                           0.88     56574\n",
      "   macro avg       0.86      0.86      0.86     56574\n",
      "weighted avg       0.88      0.88      0.88     56574\n",
      "\n"
     ]
    }
   ],
   "source": [
    "trump_tweets = load_files(\"Trump_tweets\", encoding=\"utf-8\", decode_error=\"ignore\")\n",
    "tweets = trump_tweets.data  \n",
    "vader_model = SentimentIntensityAnalyzer()\n",
    "\n",
    "def sentiment_classifier(score): \n",
    "    \"\"\"\n",
    "    Returns segregated score value as positive, negative or neutral.\n",
    "    :param score: vader's score dictionary \n",
    "\n",
    "    :rtype: string\n",
    "    :return: sentiment of the text input as postive, negative or neutral \n",
    "    \"\"\"\n",
    "    if score['compound'] == 0.0:\n",
    "        return 'neutral'\n",
    "    elif score['compound'] > 0.0:\n",
    "        return 'positive'\n",
    "    elif score['compound'] < 0:\n",
    "        return'negative'\n",
    "    \n",
    "def evaluation_metrics(true_labels, predicted_labels, experiment_name):\n",
    "    '''\n",
    "    Prints the classification report. \n",
    "    :param true_labels: the correct labels \n",
    "    :param predicted_labels: the label that vader assigns\n",
    "    :param experiment_name: the name of the experiemtn under observation. \n",
    "\n",
    "    :return: None\n",
    "    '''\n",
    "    print('CLASSIFICATION REPORT:', experiment_name)\n",
    "    print(classification_report(true_labels, predicted_labels))\n",
    "    \n",
    "    \n",
    "\n",
    "true_label = []\n",
    "predicted_label = []\n",
    "\n",
    "true_value = trump_tweets.target\n",
    "label_names = trump_tweets.target_names\n",
    "\n",
    "for tweet, label in zip(tweets, true_value):\n",
    "    true_label.append(label_names[label])  \n",
    "    scores = vader_model.polarity_scores(tweet)  \n",
    "    predicted_label.append(sentiment_classifier(scores)) \n",
    "\n",
    "\n",
    "evaluation_metrics(true_label, predicted_label, \"TASK 1: VADER as is\")\n",
    "    "
   ]
  },
  {
   "cell_type": "markdown",
   "metadata": {},
   "source": [
    "#### TSV File Method"
   ]
  },
  {
   "cell_type": "code",
   "execution_count": null,
   "metadata": {},
   "outputs": [
    {
     "name": "stdout",
     "output_type": "stream",
     "text": [
      "=== SENTIMENT CLASSIFICATION REPORT ===\n",
      "              precision    recall  f1-score   support\n",
      "\n",
      "    negative       0.00      0.00      0.00         6\n",
      "     neutral       0.33      0.50      0.40         6\n",
      "    positive       0.43      0.50      0.46         6\n",
      "\n",
      "    accuracy                           0.33        18\n",
      "   macro avg       0.25      0.33      0.29        18\n",
      "weighted avg       0.25      0.33      0.29        18\n",
      "\n"
     ]
    },
    {
     "name": "stderr",
     "output_type": "stream",
     "text": [
      "[nltk_data] Downloading package vader_lexicon to\n",
      "[nltk_data]     /Users/jonashubbers/nltk_data...\n",
      "[nltk_data]   Package vader_lexicon is already up-to-date!\n"
     ]
    }
   ],
   "source": [
    "import nltk\n",
    "import pandas as pd\n",
    "from nltk.sentiment.vader import SentimentIntensityAnalyzer\n",
    "from sklearn.metrics import classification_report\n",
    "\n",
    "#Download VADER lexicon\n",
    "nltk.download('vader_lexicon')\n",
    "\n",
    "#Setting the model\n",
    "vader_model = SentimentIntensityAnalyzer()\n",
    "\n",
    "#Load in the dataset\n",
    "test_file_path = \"sentiment-topic-test.tsv\"\n",
    "test_df = pd.read_csv(test_file_path, sep=\"\\t\")\n",
    "\n",
    "#Set the classification ranges\n",
    "def sentiment_classifier(score): \n",
    "    if score['compound'] == 0.0:\n",
    "        return 'neutral'\n",
    "    elif score['compound'] > 0.0:\n",
    "        return 'positive'\n",
    "    elif score['compound'] < 0:\n",
    "        return 'negative'\n",
    "\n",
    "#Apply the algorithm for classification\n",
    "test_df['predicted_sentiment'] = test_df['sentence'].apply(lambda x: sentiment_classifier(vader_model.polarity_scores(x)))\n",
    "\n",
    "#Generate the classification report\n",
    "classification_rep = classification_report(test_df['sentiment'], test_df['predicted_sentiment'])\n",
    "\n",
    "#Print the report\n",
    "print(\"=== SENTIMENT CLASSIFICATION REPORT ===\")\n",
    "print(classification_rep)\n"
   ]
  },
  {
   "cell_type": "code",
   "execution_count": 15,
   "metadata": {},
   "outputs": [
    {
     "name": "stdout",
     "output_type": "stream",
     "text": [
      "\n",
      "=== SENTENCE CLASSIFICATION EXAMPLES ===\n",
      "Sentence: The atmosphere at the stadium tonight was electric.\n",
      "Predicted Sentiment: neutral\n",
      "--------------------------------------------------\n",
      "Sentence: The game was so intense I forgot to breathe at times. What a win!\n",
      "Predicted Sentiment: positive\n",
      "--------------------------------------------------\n",
      "Sentence: It had me hooked from the first chapter.\n",
      "Predicted Sentiment: neutral\n",
      "--------------------------------------------------\n",
      "Sentence: It’s more of a slow burn than a page-turner, but it’s well-written, I guess.\n",
      "Predicted Sentiment: neutral\n",
      "--------------------------------------------------\n",
      "Sentence: It’s split into two timelines, which keeps it interesting but also a bit confusing at times.\n",
      "Predicted Sentiment: negative\n",
      "--------------------------------------------------\n",
      "Sentence: I could watch this film a hundred times and still find something new to love about it.\n",
      "Predicted Sentiment: positive\n",
      "--------------------------------------------------\n",
      "Sentence: Best thriller I’ve seen in ages. Had me on the edge of my seat the entire time.\n",
      "Predicted Sentiment: positive\n",
      "--------------------------------------------------\n",
      "Sentence: How do you concede three goals in ten minutes? The whole defence needs replacing.\n",
      "Predicted Sentiment: positive\n",
      "--------------------------------------------------\n",
      "Sentence: They rotated their squad for the cup game, which wasn’t surprising given the schedule.\n",
      "Predicted Sentiment: positive\n",
      "--------------------------------------------------\n",
      "Sentence: The trailer gave away most of the plot, but there were still a few surprises.\n",
      "Predicted Sentiment: positive\n",
      "--------------------------------------------------\n",
      "Sentence: The protagonist was so whiny I wanted to throw the book across the room.\n",
      "Predicted Sentiment: neutral\n",
      "--------------------------------------------------\n",
      "Sentence: The author’s writing style is so unique – poetic, but not over the top.\n",
      "Predicted Sentiment: negative\n",
      "--------------------------------------------------\n",
      "Sentence: I don't get how was it supposed to work without any chemistry between the leads.\n",
      "Predicted Sentiment: neutral\n",
      "--------------------------------------------------\n",
      "Sentence: It's still 0-0 so far, so way too early to tell - both teams trying their hardest, but maybe it won't be enough?\n",
      "Predicted Sentiment: neutral\n",
      "--------------------------------------------------\n",
      "Sentence: I don't get the appeal at all, it's just a couple guys kicking a ball around at the end of the day.\n",
      "Predicted Sentiment: neutral\n",
      "--------------------------------------------------\n",
      "Sentence: Did you hear the screenplay for it was originally written on a napkin?\n",
      "Predicted Sentiment: neutral\n",
      "--------------------------------------------------\n",
      "Sentence: It's really incredibly impressive to mess up such a tested blockbuster formula.\n",
      "Predicted Sentiment: positive\n",
      "--------------------------------------------------\n",
      "Sentence: The only way it's helped me is by keeping my table from being wobbly.\n",
      "Predicted Sentiment: neutral\n",
      "--------------------------------------------------\n"
     ]
    }
   ],
   "source": [
    "# Print each sentence with its predicted sentiment\n",
    "print(\"\\n=== SENTENCE CLASSIFICATION EXAMPLES ===\")\n",
    "for idx, row in test_df.iterrows():\n",
    "    print(f\"Sentence: {row['sentence']}\")\n",
    "    print(f\"Predicted Sentiment: {row['predicted_sentiment']}\")\n",
    "    print(\"-\" * 50)  # Separator for readability\n"
   ]
  },
  {
   "cell_type": "markdown",
   "metadata": {},
   "source": [
    "#### CSV File Method"
   ]
  },
  {
   "cell_type": "code",
   "execution_count": null,
   "metadata": {},
   "outputs": [
    {
     "name": "stdout",
     "output_type": "stream",
     "text": [
      "Dataset Columns: Index(['sentence_id', 'sentence', 'sentiment', 'topic'], dtype='object')\n",
      "Classification Report:\n",
      "              precision    recall  f1-score   support\n",
      "\n",
      "    negative       0.00      0.00      0.00         6\n",
      "     neutral       0.33      0.50      0.40         6\n",
      "    positive       0.43      0.50      0.46         6\n",
      "\n",
      "    accuracy                           0.33        18\n",
      "   macro avg       0.25      0.33      0.29        18\n",
      "weighted avg       0.25      0.33      0.29        18\n",
      "\n"
     ]
    }
   ],
   "source": [
    "import pandas as pd\n",
    "from nltk.sentiment.vader import SentimentIntensityAnalyzer\n",
    "from sklearn.metrics import classification_report\n",
    "\n",
    "#Loading the file and chnage encoding in case issues\n",
    "#Had some issues with utf-8\n",
    "test_file_path = \"sentiment-topic-test.csv\" \n",
    "try:\n",
    "    test_data = pd.read_csv(test_file_path, encoding=\"utf-8\")\n",
    "except UnicodeDecodeError:\n",
    "    test_data = pd.read_csv(test_file_path, encoding=\"latin-1\")\n",
    "\n",
    "print(\"Dataset Columns:\", test_data.columns)\n",
    "\n",
    "#In case errors occur\n",
    "if \"sentence\" not in test_data.columns or \"sentiment\" not in test_data.columns:\n",
    "    raise ValueError(\"Dataset must contain 'sentence' and 'sentiment' columns.\")\n",
    "\n",
    "#Setting the model\n",
    "vader_model = SentimentIntensityAnalyzer()\n",
    "\n",
    "#Setting the classification ranges for the VADER model\n",
    "#Note: 0.05 was used in this instance inside of 0.00 but the results were the same\n",
    "#So it was left like this.\n",
    "def sentiment_classifier(score):\n",
    "    if score[\"compound\"] >= 0.05:\n",
    "        return \"positive\"\n",
    "    elif score[\"compound\"] <= -0.05:\n",
    "        return \"negative\"\n",
    "    else:\n",
    "        return \"neutral\"\n",
    "\n",
    "#Using VADER for the sentiment analysis part\n",
    "test_data[\"predicted_sentiment\"] = test_data[\"sentence\"].apply(lambda x: sentiment_classifier(vader_model.polarity_scores(str(x))))\n",
    "\n",
    "#Writing of the classification report\n",
    "print(\"Classification Report:\")\n",
    "print(classification_report(test_data[\"sentiment\"], test_data[\"predicted_sentiment\"], labels=[\"negative\", \"neutral\", \"positive\"]))\n"
   ]
  },
  {
   "cell_type": "markdown",
   "metadata": {},
   "source": [
    "#### Distribution of Sentiment Instances (Training Data)"
   ]
  },
  {
   "cell_type": "code",
   "execution_count": null,
   "metadata": {},
   "outputs": [
    {
     "data": {
      "image/png": "[encoded data removed]",
      "text/plain": [
       "<Figure size 800x800 with 1 Axes>"
      ]
     },
     "metadata": {},
     "output_type": "display_data"
    }
   ],
   "source": [
    "import matplotlib.pyplot as plt\n",
    "\n",
    "# Data\n",
    "labels = ['Positive', 'Neutral', 'Negative']\n",
    "sizes = [29792, 12388, 14391]  \n",
    "colors = ['#4CAF50', '#FFC107', '#F44336']  \n",
    "\n",
    "plt.figure(figsize=(8, 8), facecolor='#303030')  \n",
    "\n",
    "wedges, texts, autotexts = plt.pie(\n",
    "    sizes, labels=labels, autopct='%1.1f%%', colors=colors,\n",
    "    startangle=140, textprops={'fontsize': 12, 'color': 'white'}\n",
    ")\n",
    "\n",
    "for text in texts:\n",
    "    text.set_color('white')\n",
    "\n",
    "for autotext in autotexts:\n",
    "    autotext.set_color('white')\n",
    "\n",
    "plt.title('Sentiment Distribution', fontsize=14, color='white')\n",
    "\n",
    "plt.legend(title=\"Sentiments\", loc=\"best\", facecolor='#303030', edgecolor='white', labelcolor='white')\n",
    "\n",
    "plt.show()\n"
   ]
  }
 ],
 "metadata": {
  "kernelspec": {
   "display_name": "base",
   "language": "python",
   "name": "python3"
  },
  "language_info": {
   "codemirror_mode": {
    "name": "ipython",
    "version": 3
   },
   "file_extension": ".py",
   "mimetype": "text/x-python",
   "name": "python",
   "nbconvert_exporter": "python",
   "pygments_lexer": "ipython3",
   "version": "3.12.2"
  }
 },
 "nbformat": 4,
 "nbformat_minor": 2
}
